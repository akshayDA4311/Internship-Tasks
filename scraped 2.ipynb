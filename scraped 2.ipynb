{
 "cells": [
  {
   "cell_type": "code",
   "execution_count": 22,
   "id": "71fb16f4",
   "metadata": {},
   "outputs": [],
   "source": [
    "import requests\n",
    "from bs4 import BeautifulSoup\n",
    "import pandas as pd\n",
    "import numpy as np\n"
   ]
  },
  {
   "cell_type": "code",
   "execution_count": null,
   "id": "4d3d1dba",
   "metadata": {},
   "outputs": [],
   "source": [
    "#Make request from web page"
   ]
  },
  {
   "cell_type": "code",
   "execution_count": 42,
   "id": "96a9f739",
   "metadata": {},
   "outputs": [],
   "source": [
    "url = 'https://www.worldometers.info/coronavirus/#countries'"
   ]
  },
  {
   "cell_type": "code",
   "execution_count": 43,
   "id": "7320841c",
   "metadata": {},
   "outputs": [],
   "source": [
    "html_page = requests.get(url).text"
   ]
  },
  {
   "cell_type": "code",
   "execution_count": 44,
   "id": "eb3f550e",
   "metadata": {},
   "outputs": [],
   "source": [
    "soup = BeautifulSoup(html_page,'lxml')"
   ]
  },
  {
   "cell_type": "code",
   "execution_count": 50,
   "id": "90e7fef3",
   "metadata": {},
   "outputs": [],
   "source": [
    "get_table = soup.find(\"table\",id = \"main_table_countries_today\")\n",
    "get_table_data = get_table.tbody.find_all(\"tr\")"
   ]
  },
  {
   "cell_type": "code",
   "execution_count": 60,
   "id": "dfdca71c",
   "metadata": {},
   "outputs": [],
   "source": [
    "dic = {}\n",
    "\n",
    "for i in range(len(get_table_data)):\n",
    "    try:\n",
    "        key = get_table_data[i].find_all(\"a\", href = True)[0].string\n",
    "    except:\n",
    "        key = get_table_data[i].find_all(\"td\")[0].string\n",
    "        \n",
    "    values = [j.string for j in get_table_data[i].find_all('td')]\n",
    "    \n",
    "    dic[key] = values\n",
    "    \n",
    "column_names = [\"TotalCases\", \"New Cases\", \"TotalDeaths\", \"NewDeaths\", \"TotalRecovered\", \"NewRecovered\", \"ActiveCases\", \"Serious Critical\", \n",
    "                \"Tot Cases/1M pop\", \"Tot Deaths/1M pop\"]\n",
    "    \n",
    "df = pd.DataFrame(dic).iloc[1:,:].T.iloc[:,:10]\n",
    "\n",
    "df.index_name = \"country\"\n",
    "\n",
    "df.columns = column_names\n"
   ]
  },
  {
   "cell_type": "code",
   "execution_count": 61,
   "id": "a285feeb",
   "metadata": {},
   "outputs": [
    {
     "data": {
      "text/html": [
       "<div>\n",
       "<style scoped>\n",
       "    .dataframe tbody tr th:only-of-type {\n",
       "        vertical-align: middle;\n",
       "    }\n",
       "\n",
       "    .dataframe tbody tr th {\n",
       "        vertical-align: top;\n",
       "    }\n",
       "\n",
       "    .dataframe thead th {\n",
       "        text-align: right;\n",
       "    }\n",
       "</style>\n",
       "<table border=\"1\" class=\"dataframe\">\n",
       "  <thead>\n",
       "    <tr style=\"text-align: right;\">\n",
       "      <th></th>\n",
       "      <th>TotalCases</th>\n",
       "      <th>New Cases</th>\n",
       "      <th>TotalDeaths</th>\n",
       "      <th>NewDeaths</th>\n",
       "      <th>TotalRecovered</th>\n",
       "      <th>NewRecovered</th>\n",
       "      <th>ActiveCases</th>\n",
       "      <th>Serious Critical</th>\n",
       "      <th>Tot Cases/1M pop</th>\n",
       "      <th>Tot Deaths/1M pop</th>\n",
       "    </tr>\n",
       "  </thead>\n",
       "  <tbody>\n",
       "    <tr>\n",
       "      <th>None</th>\n",
       "      <td>World</td>\n",
       "      <td>690,976,653</td>\n",
       "      <td>+1,475</td>\n",
       "      <td>6,896,040</td>\n",
       "      <td>+6</td>\n",
       "      <td>663,623,403</td>\n",
       "      <td>+25,261</td>\n",
       "      <td>20,457,210</td>\n",
       "      <td>37,311</td>\n",
       "      <td>88,646</td>\n",
       "    </tr>\n",
       "    <tr>\n",
       "      <th>USA</th>\n",
       "      <td>USA</td>\n",
       "      <td>107,321,664</td>\n",
       "      <td>None</td>\n",
       "      <td>1,168,197</td>\n",
       "      <td>None</td>\n",
       "      <td>105,471,878</td>\n",
       "      <td>None</td>\n",
       "      <td>681,589</td>\n",
       "      <td>782</td>\n",
       "      <td>320,550</td>\n",
       "    </tr>\n",
       "    <tr>\n",
       "      <th>India</th>\n",
       "      <td>India</td>\n",
       "      <td>44,994,281</td>\n",
       "      <td>None</td>\n",
       "      <td>531,907</td>\n",
       "      <td>None</td>\n",
       "      <td>44,460,884</td>\n",
       "      <td>None</td>\n",
       "      <td>1,490</td>\n",
       "      <td>N/A</td>\n",
       "      <td>31,987</td>\n",
       "    </tr>\n",
       "    <tr>\n",
       "      <th>France</th>\n",
       "      <td>France</td>\n",
       "      <td>40,138,560</td>\n",
       "      <td>None</td>\n",
       "      <td>167,642</td>\n",
       "      <td>None</td>\n",
       "      <td>39,946,275</td>\n",
       "      <td>+332</td>\n",
       "      <td>24,643</td>\n",
       "      <td>869</td>\n",
       "      <td>612,013</td>\n",
       "    </tr>\n",
       "    <tr>\n",
       "      <th>Germany</th>\n",
       "      <td>Germany</td>\n",
       "      <td>38,428,685</td>\n",
       "      <td>None</td>\n",
       "      <td>174,352</td>\n",
       "      <td>None</td>\n",
       "      <td>38,240,600</td>\n",
       "      <td>None</td>\n",
       "      <td>13,733</td>\n",
       "      <td>N/A</td>\n",
       "      <td>458,119</td>\n",
       "    </tr>\n",
       "  </tbody>\n",
       "</table>\n",
       "</div>"
      ],
      "text/plain": [
       "        TotalCases    New Cases TotalDeaths  \\\n",
       "None         World  690,976,653      +1,475   \n",
       "USA            USA  107,321,664        None   \n",
       "India        India   44,994,281        None   \n",
       "France      France   40,138,560        None   \n",
       "Germany    Germany   38,428,685        None   \n",
       "\n",
       "                                         NewDeaths TotalRecovered  \\\n",
       "None                                     6,896,040             +6   \n",
       "USA      1,168,197                                           None   \n",
       "India      531,907                                           None   \n",
       "France     167,642                                           None   \n",
       "Germany    174,352                                           None   \n",
       "\n",
       "        NewRecovered ActiveCases Serious Critical Tot Cases/1M pop  \\\n",
       "None     663,623,403     +25,261       20,457,210           37,311   \n",
       "USA      105,471,878        None          681,589              782   \n",
       "India     44,460,884        None            1,490              N/A   \n",
       "France    39,946,275        +332           24,643              869   \n",
       "Germany   38,240,600        None           13,733              N/A   \n",
       "\n",
       "        Tot Deaths/1M pop  \n",
       "None               88,646  \n",
       "USA               320,550  \n",
       "India              31,987  \n",
       "France            612,013  \n",
       "Germany           458,119  "
      ]
     },
     "execution_count": 61,
     "metadata": {},
     "output_type": "execute_result"
    }
   ],
   "source": [
    "df.head()"
   ]
  },
  {
   "cell_type": "code",
   "execution_count": 9,
   "id": "c9dde00d",
   "metadata": {},
   "outputs": [],
   "source": []
  },
  {
   "cell_type": "code",
   "execution_count": null,
   "id": "52811e3c",
   "metadata": {},
   "outputs": [],
   "source": []
  },
  {
   "cell_type": "code",
   "execution_count": 12,
   "id": "cc08a48e",
   "metadata": {},
   "outputs": [],
   "source": []
  },
  {
   "cell_type": "code",
   "execution_count": 13,
   "id": "9a6ec6fe",
   "metadata": {},
   "outputs": [],
   "source": []
  },
  {
   "cell_type": "code",
   "execution_count": 14,
   "id": "a46c28ae",
   "metadata": {},
   "outputs": [],
   "source": []
  },
  {
   "cell_type": "code",
   "execution_count": null,
   "id": "b14f0c0d",
   "metadata": {},
   "outputs": [],
   "source": []
  },
  {
   "cell_type": "code",
   "execution_count": null,
   "id": "5cbfe7bf",
   "metadata": {},
   "outputs": [],
   "source": []
  }
 ],
 "metadata": {
  "kernelspec": {
   "display_name": "Python 3 (ipykernel)",
   "language": "python",
   "name": "python3"
  },
  "language_info": {
   "codemirror_mode": {
    "name": "ipython",
    "version": 3
   },
   "file_extension": ".py",
   "mimetype": "text/x-python",
   "name": "python",
   "nbconvert_exporter": "python",
   "pygments_lexer": "ipython3",
   "version": "3.10.9"
  }
 },
 "nbformat": 4,
 "nbformat_minor": 5
}
